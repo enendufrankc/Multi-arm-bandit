{
 "cells": [
  {
   "cell_type": "markdown",
   "id": "285237ad",
   "metadata": {},
   "source": [
    "##### Multi Arm Bandit Implementation"
   ]
  },
  {
   "cell_type": "markdown",
   "id": "e3b4a8df",
   "metadata": {},
   "source": [
    "- Implement a multi-armed bandit algorithm. Similar to Figure 2.1 in the Sutton & Barto book (Reinforcement Learning: An Introduction), provide a solution for a n-armed bandit, where n can be 8 or 10.\n",
    "\n",
    "- Prepare a report explaining your solution and containing your results, and discussion of the results.\n",
    "\n",
    "- Attach the source code as separate files. For example, .ipnb - an ipython notebook file."
   ]
  },
  {
   "cell_type": "markdown",
   "id": "053606a5",
   "metadata": {},
   "source": [
    "##### Implementing with Numpy"
   ]
  },
  {
   "cell_type": "markdown",
   "id": "836a355e",
   "metadata": {},
   "source": [
    "Simple implementation of a multi-armed bandit algorithm in Python, based on the epsilon-greedy strategy described in Sutton & Barto's book.\n",
    "\n",
    "Let's start with a function to initialize the bandit problem. This function takes as input the number of arms (n) and returns the true action values (q_star) and the initial estimates (Q)."
   ]
  },
  {
   "cell_type": "code",
   "execution_count": 2,
   "id": "457e3c60",
   "metadata": {},
   "outputs": [],
   "source": [
    "import numpy as np\n",
    "\n",
    "def init_bandit(n):\n",
    "    q_star = np.random.normal(0, 1, n)\n",
    "    Q = np.zeros(n)\n",
    "    return q_star, Q"
   ]
  },
  {
   "cell_type": "markdown",
   "id": "5ac218ec",
   "metadata": {},
   "source": [
    "Next, we'll define a function to select the next action based on the current estimates. This function takes as input the current estimates (Q), the value of epsilon, and the number of actions (n). It returns the index of the selected action."
   ]
  },
  {
   "cell_type": "code",
   "execution_count": 3,
   "id": "2bc50cca",
   "metadata": {},
   "outputs": [],
   "source": [
    "def select_action(Q, epsilon, n):\n",
    "    if np.random.random() < epsilon:\n",
    "        # Explore: choose a random action\n",
    "        action = np.random.randint(n)\n",
    "    else:\n",
    "        # Exploit: choose the action with highest estimate\n",
    "        action = np.argmax(Q)\n",
    "    return action"
   ]
  },
  {
   "cell_type": "markdown",
   "id": "a824986c",
   "metadata": {},
   "source": [
    "Finally, we'll define the main loop of the bandit algorithm. This loop iterates over a number of steps (num_steps) and at each step selects an action, observes the reward for that action, and updates the estimate for that action."
   ]
  },
  {
   "cell_type": "code",
   "execution_count": 4,
   "id": "236c86b4",
   "metadata": {},
   "outputs": [],
   "source": [
    "def run_bandit(n, num_steps, epsilon):\n",
    "    q_star, Q = init_bandit(n)\n",
    "    N = np.zeros(n)  # number of times each action has been selected\n",
    "    rewards = []     # history of rewards\n",
    "\n",
    "    for i in range(num_steps):\n",
    "        action = select_action(Q, epsilon, n)\n",
    "        reward = np.random.normal(q_star[action], 1)\n",
    "        rewards.append(reward)\n",
    "        N[action] += 1\n",
    "        Q[action] += (reward - Q[action]) / N[action]\n",
    "\n",
    "    return rewards"
   ]
  },
  {
   "cell_type": "markdown",
   "id": "2b7ccfdc",
   "metadata": {},
   "source": [
    "To test the algorithm, we can run it for a number of steps and compute the average reward over multiple runs. Here's an example:"
   ]
  },
  {
   "cell_type": "code",
   "execution_count": 5,
   "id": "1e6d0808",
   "metadata": {},
   "outputs": [
    {
     "data": {
      "image/png": "[encoded data removed]",
      "text/plain": [
       "<Figure size 640x480 with 1 Axes>"
      ]
     },
     "metadata": {},
     "output_type": "display_data"
    }
   ],
   "source": [
    "n = 10\n",
    "num_steps = 1000\n",
    "epsilon = 0.1\n",
    "num_runs = 1000\n",
    "\n",
    "avg_rewards = np.zeros(num_steps)\n",
    "for i in range(num_runs):\n",
    "    rewards = run_bandit(n, num_steps, epsilon)\n",
    "    avg_rewards += (rewards - avg_rewards) / (i + 1)\n",
    "\n",
    "import matplotlib.pyplot as plt\n",
    "plt.plot(avg_rewards)\n",
    "plt.show()"
   ]
  },
  {
   "cell_type": "markdown",
   "id": "37fe6fbe",
   "metadata": {},
   "source": [
    "This code runs the bandit algorithm 1000 times, each time for 1000 steps, with an epsilon value of 0.1. It then computes the average reward over all runs and plots the result. You can adjust the values of n, num_steps, epsilon, and num_runs to experiment with different settings."
   ]
  },
  {
   "cell_type": "markdown",
   "id": "b25b52d1",
   "metadata": {},
   "source": [
    "##### Implementing with straight Algorithm"
   ]
  },
  {
   "cell_type": "code",
   "execution_count": null,
   "id": "65795e1a",
   "metadata": {},
   "outputs": [],
   "source": [
    "import random\n",
    "\n",
    "def init_bandit(n):\n",
    "    q_star = [random.gauss(0, 1) for _ in range(n)]\n",
    "    Q = [0.0] * n\n",
    "    N = [0] * n\n",
    "    return q_star, Q, N\n",
    "\n",
    "def select_action(Q, epsilon):\n",
    "    if random.random() < epsilon:\n",
    "        # Explore: choose a random action\n",
    "        action = random.randint(0, len(Q)-1)\n",
    "    else:\n",
    "        # Exploit: choose the action with highest estimate\n",
    "        maxQ = max(Q)\n",
    "        count = Q.count(maxQ)\n",
    "        if count > 1:\n",
    "            # multiple actions have the same max value, choose one randomly\n",
    "            best = [i for i in range(len(Q)) if Q[i] == maxQ]\n",
    "            action = random.choice(best)\n",
    "        else:\n",
    "            action = Q.index(maxQ)\n",
    "    return action\n",
    "\n",
    "def run_bandit(n, num_steps, epsilon):\n",
    "    q_star, Q, N = init_bandit(n)\n",
    "    rewards = []\n",
    "\n",
    "    for i in range(num_steps):\n",
    "        action = select_action(Q, epsilon)\n",
    "        reward = random.gauss(q_star[action], 1)\n",
    "        rewards.append(reward)\n",
    "        N[action] += 1\n",
    "        Q[action] += (reward - Q[action]) / N[action]\n",
    "\n",
    "    return rewards\n"
   ]
  }
 ],
 "metadata": {
  "kernelspec": {
   "display_name": "Python 3 (ipykernel)",
   "language": "python",
   "name": "python3"
  },
  "language_info": {
   "codemirror_mode": {
    "name": "ipython",
    "version": 3
   },
   "file_extension": ".py",
   "mimetype": "text/x-python",
   "name": "python",
   "nbconvert_exporter": "python",
   "pygments_lexer": "ipython3",
   "version": "3.9.13"
  }
 },
 "nbformat": 4,
 "nbformat_minor": 5
}
